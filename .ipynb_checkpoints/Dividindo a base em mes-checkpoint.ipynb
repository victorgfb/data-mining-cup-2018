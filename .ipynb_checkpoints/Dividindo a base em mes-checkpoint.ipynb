{
 "cells": [
  {
   "cell_type": "code",
   "execution_count": null,
   "metadata": {
    "scrolled": true
   },
   "outputs": [],
   "source": [
    "%autosave 0"
   ]
  },
  {
   "cell_type": "code",
   "execution_count": null,
   "metadata": {},
   "outputs": [],
   "source": [
    "import pandas as pd\n",
    "import numpy as np\n",
    "import datetime\n",
    "from sklearn.linear_model import LogisticRegression\n",
    "import re\n",
    "from sklearn import preprocessing\n",
    "\n",
    "regex = r\"([0-9]{4}-[0-9]{2})-([0-9]{2})\""
   ]
  },
  {
   "cell_type": "code",
   "execution_count": null,
   "metadata": {},
   "outputs": [],
   "source": [
    "train = pd.read_csv('train.csv', sep='|')\n",
    "items = pd.read_csv('items.csv', sep='|')\n",
    "\n",
    "items = items.fillna(\"None\")\n",
    "train = train.fillna(\"None\")"
   ]
  },
  {
   "cell_type": "code",
   "execution_count": null,
   "metadata": {},
   "outputs": [],
   "source": [
    "month = []\n",
    "for i in train[\"date\"]:\n",
    "    month.append(re.search(regex, i).group(1))"
   ]
  },
  {
   "cell_type": "code",
   "execution_count": null,
   "metadata": {},
   "outputs": [],
   "source": [
    "train.insert(1,\"month\",month)"
   ]
  },
  {
   "cell_type": "code",
   "execution_count": null,
   "metadata": {},
   "outputs": [],
   "source": [
    "def insert_column (data,fields,fields_name):\n",
    "    index = len(data.columns)-1\n",
    "    for i in range(len(fields_name)):\n",
    "        data.insert(index + i,fields_name[i],fields[fields_name[i]],True)\n",
    "    return data"
   ]
  },
  {
   "cell_type": "code",
   "execution_count": null,
   "metadata": {},
   "outputs": [],
   "source": [
    "items"
   ]
  },
  {
   "cell_type": "code",
   "execution_count": null,
   "metadata": {},
   "outputs": [],
   "source": [
    "units = train.sort_values(by=['units'])['units'].reset_index()['units']"
   ]
  },
  {
   "cell_type": "code",
   "execution_count": null,
   "metadata": {},
   "outputs": [],
   "source": [
    "units[units.index > 134000]"
   ]
  },
  {
   "cell_type": "code",
   "execution_count": null,
   "metadata": {},
   "outputs": [],
   "source": [
    "import matplotlib.pyplot as plt \n",
    "plt.plot(units) \n",
    "   \n",
    "plt.title('Units graph!') \n",
    "  \n",
    "# function to show the plot \n",
    "plt.show() "
   ]
  },
  {
   "cell_type": "code",
   "execution_count": null,
   "metadata": {},
   "outputs": [],
   "source": [
    "train = train[train['units'] < 20]"
   ]
  },
  {
   "cell_type": "code",
   "execution_count": null,
   "metadata": {},
   "outputs": [],
   "source": [
    "max(train['units'])"
   ]
  },
  {
   "cell_type": "code",
   "execution_count": null,
   "metadata": {},
   "outputs": [],
   "source": []
  },
  {
   "cell_type": "code",
   "execution_count": null,
   "metadata": {},
   "outputs": [],
   "source": [
    "x = train.groupby(['pid','size','month']).tail(1).sort_values(by=['pid']).drop(['units'], axis=1)"
   ]
  },
  {
   "cell_type": "code",
   "execution_count": null,
   "metadata": {},
   "outputs": [],
   "source": [
    "grouped = train.groupby(['pid','size','month']).sum()"
   ]
  },
  {
   "cell_type": "code",
   "execution_count": null,
   "metadata": {
    "scrolled": true
   },
   "outputs": [],
   "source": [
    "grouped"
   ]
  },
  {
   "cell_type": "code",
   "execution_count": null,
   "metadata": {},
   "outputs": [],
   "source": [
    "grouped.index = x.index"
   ]
  },
  {
   "cell_type": "code",
   "execution_count": null,
   "metadata": {},
   "outputs": [],
   "source": [
    "#x['units'] = grouped['units']"
   ]
  },
  {
   "cell_type": "code",
   "execution_count": null,
   "metadata": {},
   "outputs": [],
   "source": [
    "x = x.sort_values(by=['pid','month'])"
   ]
  },
  {
   "cell_type": "code",
   "execution_count": null,
   "metadata": {},
   "outputs": [],
   "source": [
    "data = pd.merge(items.drop(['stock'], axis=1), x, on=['pid','size'])"
   ]
  },
  {
   "cell_type": "code",
   "execution_count": null,
   "metadata": {},
   "outputs": [],
   "source": [
    "data['units'] = grouped['units'].values"
   ]
  },
  {
   "cell_type": "code",
   "execution_count": null,
   "metadata": {},
   "outputs": [],
   "source": [
    "from sklearn.preprocessing import LabelEncoder, OneHotEncoder\n",
    "labelencoder_X = LabelEncoder()\n",
    "\n",
    "data['mainCategory'] = labelencoder_X.fit_transform(data['mainCategory'])"
   ]
  },
  {
   "cell_type": "code",
   "execution_count": null,
   "metadata": {},
   "outputs": [],
   "source": [
    "#onehotencoder.fit_transform(data)"
   ]
  },
  {
   "cell_type": "code",
   "execution_count": null,
   "metadata": {},
   "outputs": [],
   "source": [
    "# categories = pd.get_dummies(data['category'])\n",
    "mainCategories = pd.get_dummies(data['mainCategory'])\n",
    "# subCategories = pd.get_dummies(data['subCategory'])\n",
    "# color = pd.get_dummies(data['color'])\n",
    "# brand = pd.get_dummies(data['brand'])"
   ]
  },
  {
   "cell_type": "code",
   "execution_count": null,
   "metadata": {},
   "outputs": [],
   "source": [
    "# categories.columns = ['cat-2', 'cat-7', 'cat-10', 'cat-16', 'cat-18', 'cat-24', 'cat-30', 'cat-33', 'cat-36', 'cat-37']\n",
    "\n",
    "mainCategories.columns = ['mcat-1', 'mcat-9', 'mcat-15']\n",
    "\n",
    "# subCategories.columns = [ 'subcat-3.0',    'subcat-4.0',    'subcat-5.0',    'subcat-6.0',    'subcat-8.0',   'subcat-11.0',   'subcat-12.0',   'subcat-13.0',   'subcat-14.0',\n",
    "#          'subcat-16.0',   'subcat-17.0',   'subcat-19.0',   'subcat-20.0',   'subcat-21.0',   'subcat-22.0',   'subcat-23.0',   'subcat-25.0',   'subcat-26.0',\n",
    "#          'subcat-27.0',   'subcat-28.0',   'subcat-29.0',   'subcat-31.0',   'subcat-32.0',   'subcat-34.0',   'subcat-35.0',   'subcat-38.0',   'subcat-39.0',\n",
    "#          'subcat-40.0',   'subcat-41.0',   'subcat-42.0',   'subcat-43.0',   'subcat-44.0', 'subcat-None']"
   ]
  },
  {
   "cell_type": "code",
   "execution_count": null,
   "metadata": {},
   "outputs": [],
   "source": [
    "# data = insert_column(data,categories, categories.columns)\n",
    "data = insert_column(data,mainCategories, mainCategories.columns)\n",
    "# data = insert_column(data,subCategories, subCategories.columns)\n",
    "#data = insert_column(data, color, color.columns)\n",
    "# data = insert_column(data, brand, brand.columns)"
   ]
  },
  {
   "cell_type": "code",
   "execution_count": null,
   "metadata": {},
   "outputs": [],
   "source": [
    "data = data.drop(['category'], axis=1)\n",
    "data = data.drop(['mainCategory'], axis=1)\n",
    "data = data.drop(['subCategory'], axis=1)\n",
    "data = data.drop(['color'], axis=1)\n",
    "data = data.drop(['pid'], axis=1)\n",
    "data = data.drop(['brand'], axis=1)\n",
    "data = data.drop(['size'], axis=1)\n",
    "data = data.drop(['releaseDate'], axis=1)\n",
    "data = data.drop(['mcat-1'], axis=1)"
   ]
  },
  {
   "cell_type": "code",
   "execution_count": null,
   "metadata": {},
   "outputs": [],
   "source": [
    "from datetime import datetime\n",
    "data['target'] = data['date'].apply(lambda x: datetime.strptime(x, '%Y-%m-%d').day)\n",
    "data = data.drop(['date'], axis=1)"
   ]
  },
  {
   "cell_type": "code",
   "execution_count": null,
   "metadata": {},
   "outputs": [],
   "source": [
    "data_test = data[data['month'] == '2018-01']\n",
    "data_test = data_test.drop(['month'], axis=1)\n",
    "y_test = data_test.iloc[:,-1]\n",
    "x_test = data_test.iloc[:,0:-1]\n",
    "\n",
    "data_train = data[data['month'] != '2018-01']\n",
    "data_train = data_train.drop(['month'], axis=1)\n",
    "y_train = data_train.iloc[:,-1]\n",
    "x_train = data_train.iloc[:,0:-1]\n",
    "\n",
    "data = data.drop(['month'], axis=1)\n",
    "y_data = data.iloc[:,-1]\n",
    "x_data = data.iloc[:,0:-1]"
   ]
  },
  {
   "cell_type": "code",
   "execution_count": null,
   "metadata": {
    "scrolled": true
   },
   "outputs": [],
   "source": [
    "# scaler = preprocessing.StandardScaler()\n",
    "# x_data = scaler.fit_transform(x_data)"
   ]
  },
  {
   "cell_type": "code",
   "execution_count": null,
   "metadata": {},
   "outputs": [],
   "source": [
    "x_data"
   ]
  },
  {
   "cell_type": "code",
   "execution_count": null,
   "metadata": {},
   "outputs": [],
   "source": [
    "# from sklearn.ensemble import RandomForestRegressor\n",
    "\n",
    "# regr = RandomForestRegressor(max_depth=2, n_estima)\n",
    "# regr.fit(x_train, y_train)\n",
    "# regr.score(x_test, y_test)"
   ]
  },
  {
   "cell_type": "code",
   "execution_count": null,
   "metadata": {},
   "outputs": [],
   "source": [
    "from sklearn.linear_model import LinearRegression\n",
    "regressor = LinearRegression()\n",
    "regressor.fit(x_train, y_train)\n",
    "regressor.score(x_test, y_test)"
   ]
  },
  {
   "cell_type": "code",
   "execution_count": null,
   "metadata": {},
   "outputs": [],
   "source": [
    "from sklearn.model_selection import cross_val_score, GridSearchCV, cross_val_predict\n",
    "from sklearn.ensemble import RandomForestRegressor\n",
    "from sklearn.preprocessing import MinMaxScaler\n",
    "\n",
    "gsc = GridSearchCV( estimator=RandomForestRegressor(),param_grid={'max_depth': range(2,7),'n_estimators': (10, 50, 100, 500, 750, 1000),},cv=10, scoring='neg_mean_squared_error', verbose=0, n_jobs=-1)\n",
    "grid_result = gsc.fit(x_data, y_data)\n",
    "best_params = grid_result.best_params_"
   ]
  },
  {
   "cell_type": "code",
   "execution_count": null,
   "metadata": {},
   "outputs": [],
   "source": [
    "rfr = RandomForestRegressor(max_depth=best_params[\"max_depth\"], n_estimators=best_params[\"n_estimators\"],random_state=False, verbose=False)\n",
    "rfe.fit(x_data, y_data)\n",
    "predictions = rfr.predict(x_test)\n",
    "#cores = cross_val_score(rfr, x_data, y_data, cv=10, scoring='neg_mean_absolute_error')"
   ]
  },
  {
   "cell_type": "code",
   "execution_count": null,
   "metadata": {},
   "outputs": [],
   "source": [
    "grid_result.best_params_"
   ]
  },
  {
   "cell_type": "code",
   "execution_count": null,
   "metadata": {},
   "outputs": [],
   "source": [
    "from sklearn.metrics import r2_score\n",
    "r2_score(y_data, predictions)"
   ]
  },
  {
   "cell_type": "code",
   "execution_count": null,
   "metadata": {},
   "outputs": [],
   "source": [
    "from sklearn.svm import SVR\n",
    "clf = SVR(kernel='rbf', epsilon=0.2, gamma='scale')\n",
    "predictions = cross_val_predict(clf, x_data, y_data, cv=10)"
   ]
  },
  {
   "cell_type": "code",
   "execution_count": null,
   "metadata": {},
   "outputs": [],
   "source": [
    "from sklearn.metrics import r2_score\n",
    "r2_score(y_data, predictions)"
   ]
  },
  {
   "cell_type": "code",
   "execution_count": null,
   "metadata": {},
   "outputs": [],
   "source": [
    "from sklearn.ensemble import AdaBoostRegressor\n",
    "clf = AdaBoostRegressor(learning_rate=0.01, n_estimators=1000)\n",
    "clf.fit(x_train, y_train)\n",
    "predictions = clf.predict(x_test, y_test)"
   ]
  },
  {
   "cell_type": "code",
   "execution_count": null,
   "metadata": {},
   "outputs": [],
   "source": [
    "from sklearn.metrics import r2_score\n",
    "r2_score(y_data, predictions)"
   ]
  },
  {
   "cell_type": "code",
   "execution_count": null,
   "metadata": {},
   "outputs": [],
   "source": [
    "from sklearn.model_selection import cross_val_score\n",
    "from sklearn.tree import DecisionTreeRegressor\n",
    "\n",
    "clf = DecisionTreeRegressor(max_depth=3)\n",
    "clf.fit(x_train, y_train)\n",
    "predictions = clf.predict(x_test)"
   ]
  },
  {
   "cell_type": "code",
   "execution_count": null,
   "metadata": {},
   "outputs": [],
   "source": [
    "from sklearn.metrics import r2_score\n",
    "r2_score(y_test, predictions)"
   ]
  },
  {
   "cell_type": "code",
   "execution_count": null,
   "metadata": {},
   "outputs": [],
   "source": [
    "from sklearn.tree import DecisionTreeRegressor\n",
    "from sklearn.ensemble import AdaBoostRegressor\n",
    "\n",
    "rng = np.random.RandomState(1)\n",
    "regr_2 = AdaBoostRegressor(DecisionTreeRegressor(max_depth=3), n_estimators=1000, random_state=rng)\n",
    "regr_2.fit(x_train, y_train)\n",
    "predictions = regr_2.predict(x_test)"
   ]
  },
  {
   "cell_type": "code",
   "execution_count": null,
   "metadata": {},
   "outputs": [],
   "source": [
    "from sklearn.metrics import r2_score\n",
    "r2_score(y_test, predictions)"
   ]
  },
  {
   "cell_type": "code",
   "execution_count": null,
   "metadata": {},
   "outputs": [],
   "source": []
  }
 ],
 "metadata": {
  "jupytext": {
   "formats": "ipynb,Rmd",
   "notebook_metadata_filter": "jupytext_formats"
  },
  "kernelspec": {
   "display_name": "Python 3",
   "language": "python",
   "name": "python3"
  },
  "language_info": {
   "codemirror_mode": {
    "name": "ipython",
    "version": 3
   },
   "file_extension": ".py",
   "mimetype": "text/x-python",
   "name": "python",
   "nbconvert_exporter": "python",
   "pygments_lexer": "ipython3",
   "version": "3.7.5"
  }
 },
 "nbformat": 4,
 "nbformat_minor": 2
}
